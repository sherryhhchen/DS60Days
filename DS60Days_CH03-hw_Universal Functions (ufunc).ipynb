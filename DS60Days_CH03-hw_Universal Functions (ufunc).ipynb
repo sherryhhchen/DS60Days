{
 "cells": [
  {
   "cell_type": "markdown",
   "metadata": {
    "id": "rY2oyzUo2wKZ"
   },
   "source": [
    "# 作業目標:\n",
    "嘗試練習log的函式並應用\n",
    "\n",
    "# 作業重點:\n",
    "學員需要複習log的轉換方式\n",
    "熟悉運用指數函數以及對數函數"
   ]
  },
  {
   "cell_type": "markdown",
   "metadata": {
    "id": "Esjhs7zz2y95"
   },
   "source": [
    "# 題目:\n",
    "運用投影片中的分貝公式回答下列問題。<br>\n",
    "1. 正常的談話的聲壓為20000微巴斯卡，請問多少分貝?<br>\n",
    "2. 30分貝的聲壓會是50分貝的幾倍?\n"
   ]
  },
  {
   "cell_type": "code",
   "execution_count": 1,
   "metadata": {
    "id": "SKVoN9E82yQi"
   },
   "outputs": [],
   "source": [
    "import numpy as np "
   ]
  },
  {
   "cell_type": "markdown",
   "metadata": {
    "id": "knBzIEbisYO_"
   },
   "source": [
    "### 1.正常的談話的聲壓為20000微巴斯卡，請問多少分貝?\n",
    "請寫下程式\n",
    "V1 = 20000\n",
    "V0 = 20\n"
   ]
  },
  {
   "cell_type": "code",
   "execution_count": 19,
   "metadata": {},
   "outputs": [
    {
     "name": "stdout",
     "output_type": "stream",
     "text": [
      "請輸入聲壓(V1)：20000\n",
      "聲壓(V1) 20000 微巴斯卡 = 60.0 分貝\n"
     ]
    }
   ],
   "source": [
    "#輸入聲壓(微巴斯卡)查詢分貝\n",
    "\n",
    "V0 = 20\n",
    "V1 = eval(input('請輸入聲壓(V1)：'))\n",
    "G = 20*np.log10(V1/V0)\n",
    "print(\"聲壓(V1) {} 微巴斯卡 = {} 分貝\".format(V1, G))   \n",
    "#輸入聲壓 20000 ，會得到答案為60分貝"
   ]
  },
  {
   "cell_type": "markdown",
   "metadata": {
    "id": "5Vknqg8esbl_"
   },
   "source": [
    "### 2.30分貝的聲壓會是50分貝的幾倍?\n",
    "- 公式移項過後可以得到 V1 = ?\n",
    "- 請寫下程式\n"
   ]
  },
  {
   "cell_type": "code",
   "execution_count": 22,
   "metadata": {
    "id": "LjGnv4Q-1t7u"
   },
   "outputs": [
    {
     "name": "stdout",
     "output_type": "stream",
     "text": [
      "請輸入分貝：30\n",
      "30分貝 = 632.4555320336758 微巴斯卡\n"
     ]
    }
   ],
   "source": [
    "#用分貝查聲壓(微巴斯卡)\n",
    "\n",
    "V0 = 20\n",
    "G = eval(input('請輸入分貝：'))\n",
    "#np.log10(V) = G/20\n",
    "#10的G/20次方=V\n",
    "V = np.power(10, G/20)\n",
    "V1 = V0*V\n",
    "print(\"{}分貝 = {} 微巴斯卡\".format(G, V1))"
   ]
  },
  {
   "cell_type": "code",
   "execution_count": 26,
   "metadata": {},
   "outputs": [
    {
     "name": "stdout",
     "output_type": "stream",
     "text": [
      "請輸入第一個分貝數(G1)：30\n",
      "請輸入第二個分貝數(G2)：50\n",
      "30分貝 = 632.4555320336758 微巴斯卡 \n",
      "50分貝 = 6324.555320336759 微巴斯卡 \n",
      "30分貝的聲壓是50分貝的聲壓的0.10倍\n"
     ]
    }
   ],
   "source": [
    "#用兩個分貝查彼此的倍數\n",
    "\n",
    "V0 = 20\n",
    "G1 = eval(input('請輸入第一個分貝數(G1)：'))\n",
    "G2 = eval(input('請輸入第二個分貝數(G2)：'))\n",
    "#np.log10(V) = G/20\n",
    "#10的G/20次方=V\n",
    "V_G1 = np.power(10, G1/20)\n",
    "V_G2 = np.power(10, G2/20)\n",
    "V1_G1 = V0*V_G1\n",
    "V1_G2 = V0*V_G2\n",
    "print(\"{}分貝 = {} 微巴斯卡\".format(G1, V1_G1),\n",
    "      \"\\n{}分貝 = {} 微巴斯卡\".format(G2, V1_G2),\n",
    "      \"\\n{}分貝的聲壓是{}分貝的聲壓的{:.2f}倍\".format(G1, G2, V1_G1/V1_G2))"
   ]
  }
 ],
 "metadata": {
  "colab": {
   "authorship_tag": "ABX9TyNuy8nFyZsCqfcHKKs2ys9H",
   "collapsed_sections": [],
   "name": "作業_Hong題目.ipynb",
   "provenance": []
  },
  "kernelspec": {
   "display_name": "Python 3",
   "language": "python",
   "name": "python3"
  },
  "language_info": {
   "codemirror_mode": {
    "name": "ipython",
    "version": 3
   },
   "file_extension": ".py",
   "mimetype": "text/x-python",
   "name": "python",
   "nbconvert_exporter": "python",
   "pygments_lexer": "ipython3",
   "version": "3.8.5"
  }
 },
 "nbformat": 4,
 "nbformat_minor": 1
}
