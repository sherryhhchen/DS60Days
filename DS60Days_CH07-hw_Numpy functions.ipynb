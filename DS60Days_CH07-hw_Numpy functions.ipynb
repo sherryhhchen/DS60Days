{
 "cells": [
  {
   "cell_type": "markdown",
   "metadata": {
    "id": "g7_Zhb9Bif-K"
   },
   "source": [
    "# D07 NumPy 的矩陣函式與線性代數應用"
   ]
  },
  {
   "cell_type": "markdown",
   "metadata": {
    "id": "GLhLqOtlj1fc"
   },
   "source": [
    "## 作業目標 \n",
    "\n",
    "活用矩陣運算，實做線性代數 \n",
    "\n",
    "## 作業重點\n",
    "\n",
    "線性代數公式應用\n",
    "\n",
    "矩陣相乘維度需要對好，例如:2X3矩陣乘上3X5矩陣得到2X5矩陣"
   ]
  },
  {
   "cell_type": "markdown",
   "metadata": {
    "id": "Rq6NRNxLj4w1"
   },
   "source": [
    "## 題目:\n",
    "\n",
    "array1 = np.array([[10, 8], [3, 5]]) \n",
    "\n",
    "1. 運用上列array計算反矩陣，乘上原矩陣，並觀察是否為單位矩陣?\n",
    "2. 運用上列array計算特徵值、特徵向量?\n",
    "3. 運用上列array計算SVD?"
   ]
  },
  {
   "cell_type": "code",
   "execution_count": 2,
   "metadata": {
    "id": "YakNatIPj3CW"
   },
   "outputs": [],
   "source": [
    "import numpy as np"
   ]
  },
  {
   "cell_type": "markdown",
   "metadata": {},
   "source": [
    "### 1. 運用上列array計算反矩陣，乘上原矩陣，並觀察是否為單位矩陣?"
   ]
  },
  {
   "cell_type": "code",
   "execution_count": 7,
   "metadata": {
    "id": "QT4ntMV1kR1c",
    "scrolled": true
   },
   "outputs": [
    {
     "name": "stdout",
     "output_type": "stream",
     "text": [
      "反矩陣 = \n",
      " [[ 0.19230769 -0.30769231]\n",
      " [-0.11538462  0.38461538]]\n",
      "將反矩陣乘上原矩陣：\n",
      " [[1. 0.]\n",
      " [0. 1.]]\n"
     ]
    }
   ],
   "source": [
    "array1 = np.array([[10, 8], [3, 5]])\n",
    "\n",
    "#計算反矩陣\n",
    "array1_rev = np.linalg.inv(array1)\n",
    "print('反矩陣 = \\n', array1_rev)\n",
    "\n",
    "#將反矩陣乘上原矩陣，並觀察是否為單位矩陣?\n",
    "print('將反矩陣乘上原矩陣：\\n', \n",
    "      np.dot(array1, array1_rev))"
   ]
  },
  {
   "cell_type": "code",
   "execution_count": 9,
   "metadata": {
    "id": "9f7cVxwwk-y9"
   },
   "outputs": [
    {
     "name": "stdout",
     "output_type": "stream",
     "text": [
      "矩陣 array1 = \n",
      " [[10  8]\n",
      " [ 3  5]] \n",
      "特徵值 val = \n",
      " [13.  2.] \n",
      "特徵向量 vec = \n",
      " [[ 0.93632918 -0.70710678]\n",
      " [ 0.35112344  0.70710678]]\n"
     ]
    }
   ],
   "source": [
    "#2. 運用上列array計算特徵值、特徵向量?\n",
    "val, vec = np.linalg.eig(array1)\n",
    "print('矩陣 array1 = \\n',array1,\n",
    "      '\\n特徵值 val = \\n', val,   # eigenvalues\n",
    "      '\\n特徵向量 vec = \\n', vec  # eigenvectors\n",
    "     )\n"
   ]
  },
  {
   "cell_type": "code",
   "execution_count": 14,
   "metadata": {
    "id": "OHSs5etxnL8D"
   },
   "outputs": [
    {
     "name": "stdout",
     "output_type": "stream",
     "text": [
      "s =  [[-0.91663818 -0.39971796]\n",
      " [-0.39971796  0.91663818]] \n",
      "v =  [13.94721714  1.86417116] \n",
      "d =  [[-0.74319741 -0.6690722 ]\n",
      " [-0.6690722   0.74319741]]\n"
     ]
    }
   ],
   "source": [
    "#3. 運用上列array計算SVD?\n",
    "s, v, d = np.linalg.svd(array1)\n",
    "print('s = ', s,\n",
    "     '\\nv = ', v,\n",
    "    '\\nd = ', d,\n",
    "     )"
   ]
  },
  {
   "cell_type": "code",
   "execution_count": null,
   "metadata": {},
   "outputs": [],
   "source": []
  }
 ],
 "metadata": {
  "colab": {
   "collapsed_sections": [],
   "name": "作業Hong題目.ipynb",
   "provenance": []
  },
  "kernelspec": {
   "display_name": "Python 3",
   "language": "python",
   "name": "python3"
  },
  "language_info": {
   "codemirror_mode": {
    "name": "ipython",
    "version": 3
   },
   "file_extension": ".py",
   "mimetype": "text/x-python",
   "name": "python",
   "nbconvert_exporter": "python",
   "pygments_lexer": "ipython3",
   "version": "3.8.5"
  }
 },
 "nbformat": 4,
 "nbformat_minor": 1
}
