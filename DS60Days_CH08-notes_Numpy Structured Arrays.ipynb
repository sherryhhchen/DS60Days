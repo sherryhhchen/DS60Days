{
 "cells": [
  {
   "cell_type": "markdown",
   "metadata": {},
   "source": [
    "# 08 NumPy 結構化陣列 (Structured Arrays)"
   ]
  },
  {
   "cell_type": "markdown",
   "metadata": {},
   "source": [
    "## 範例目標:\n",
    "\n",
    "分辨不同資料型別 dtype，並注意與 python 資料型別的對應\n",
    "\n",
    "實做結構化陣列 (Structured Arrays)\n",
    "\n",
    "## 範例重點:\n",
    "\n",
    "- 注意 Numpy 與 python 資料型別的對應\n",
    "- 結構化陣列可透過 dictionary 型別的資料建立 np.dtype 物件，並指定 dtype 給陣列\n",
    "- RecordArray 提供更多的屬性可以用來存取結構化陣列，但是相對的效能上較差於 Structured Array"
   ]
  },
  {
   "cell_type": "markdown",
   "metadata": {},
   "source": [
    "## 1. 資料型別 (dtype)\n",
    "\n",
    "|資料型別|字母|Python資料型別|NumPy通用資料型別|\n",
    "|---|---|---|---|\n",
    "|boolean | '?'|bool|np.bool_|\n",
    "|signed byte | 'b'|bytes|np.bytes_|\n",
    "|unsigned byte | 'B'|bytes|np.bytes_|\n",
    "|signed integer | 'i'|int|np.int_|\n",
    "|unsigned integer | 'u'||np.uint|\n",
    "|floating-point | 'f'|float|np.float_|\n",
    "|complex-floating point | 'c'|complex|np.cfloat|\n",
    "|timedelta | 'm'|datetime.timedelta|np.timedelta64|\n",
    "|datetime | 'M'|datetime.datetime|np.datetime64|\n",
    "|string|'S', 'a'|str|np.str_|\n",
    "|Unicode string | 'U'|str|np.str_|"
   ]
  },
  {
   "cell_type": "markdown",
   "metadata": {},
   "source": [
    "在CSV檔中有不同型別的資料要讀取。我們可以指定各個Column的資料型別。"
   ]
  },
  {
   "cell_type": "code",
   "execution_count": 6,
   "metadata": {},
   "outputs": [],
   "source": [
    "#載入特定檔案"
   ]
  },
  {
   "cell_type": "code",
   "execution_count": null,
   "metadata": {},
   "outputs": [],
   "source": [
    "%load structured.txt"
   ]
  },
  {
   "cell_type": "markdown",
   "metadata": {},
   "source": [
    "- 透過 `np.dtype` 物件，指定要讀入各Column的資料型別\n",
    "- 以下範例是使用 Python 的資料型別及字母代表的型別。\n",
    "    - 其中字母後的數字代表其長度，例如 f8 代表 float64 (8 bytes)，U5代表長度5以下的unicode字串。\n",
    "    - 資料型別也可以使用NumPy的資料型別，例如 np.int32。"
   ]
  },
  {
   "cell_type": "code",
   "execution_count": 9,
   "metadata": {},
   "outputs": [],
   "source": [
    "import numpy as np\n",
    "#使用字母代表資料型別\n",
    "dt = np.dtype('U5, i8, i8, U3')"
   ]
  },
  {
   "cell_type": "code",
   "execution_count": 11,
   "metadata": {},
   "outputs": [
    {
     "data": {
      "text/plain": [
       "array([('Jay', 1, 2, 'Yes'), ('James', 3, 4, 'No'), ('Joe', 5, 6, 'Yes')],\n",
       "      dtype=[('f0', '<U5'), ('f1', '<i8'), ('f2', '<i8'), ('f3', '<U3')])"
      ]
     },
     "execution_count": 11,
     "metadata": {},
     "output_type": "execute_result"
    }
   ],
   "source": [
    "#從文字檔中讀取資料 (檔名, 分隔符號, 資料型別)\n",
    "a = np.genfromtxt('structured.txt', delimiter=',', dtype=dt)\n",
    "a"
   ]
  },
  {
   "cell_type": "markdown",
   "metadata": {},
   "source": [
    "## 2. 結構化陣列 (Structured Arrays)\n",
    "\n",
    "建立結構化陣列可透過dictionary型別的資料建立 `np.dtype` 物件，並指定 `dtype` 給陣列。\n",
    "\n",
    "這邊的資料型別可以使用Python的資料型別、NumPy的資料型別、或是字母代表的型別皆可。\n",
    "\n",
    "在範例中我們混用了3種型別的表示方式。"
   ]
  },
  {
   "cell_type": "code",
   "execution_count": 55,
   "metadata": {},
   "outputs": [],
   "source": [
    "#使用字典，指定 'names' 欄位名稱\n",
    "#使用字典，指定 'format' 資料型別\n",
    "\n",
    "dt = np.dtype({'names':('Name', 'num1', 'num2', 'True'), \n",
    "               'formats':((np.str_, 5), np.int32, int, 'U3')})\n",
    "\n",
    "#Python的資料型別：int\n",
    "#NumPy的資料型別：(np.str_, 5), np.int32\n",
    "#字母代表的型別：'U3'"
   ]
  },
  {
   "cell_type": "code",
   "execution_count": 56,
   "metadata": {},
   "outputs": [
    {
     "data": {
      "text/plain": [
       "array([('Jay', 1, 2, 'Yes'), ('James', 3, 4, 'No'), ('Joe', 5, 6, 'Yes')],\n",
       "      dtype=[('Name', '<U5'), ('num1', '<i4'), ('num2', '<i4'), ('True', '<U3')])"
      ]
     },
     "execution_count": 56,
     "metadata": {},
     "output_type": "execute_result"
    }
   ],
   "source": [
    "b = np.genfromtxt('structured.txt', delimiter=',', dtype=dt)\n",
    "b"
   ]
  },
  {
   "cell_type": "markdown",
   "metadata": {},
   "source": [
    "### 以索引存取元素\n",
    "\n",
    "建立陣列後，可以用索引的方式存取元素資料。"
   ]
  },
  {
   "cell_type": "code",
   "execution_count": 57,
   "metadata": {},
   "outputs": [
    {
     "name": "stdout",
     "output_type": "stream",
     "text": [
      "b[0] :  ('Jay', 1, 2, 'Yes') \n",
      "b[1] :  ('James', 3, 4, 'No')\n"
     ]
    }
   ],
   "source": [
    "#使用索引取得元素\n",
    "print('b[0] : ', b[0],\n",
    "      '\\nb[1] : ', b[1])"
   ]
  },
  {
   "cell_type": "markdown",
   "metadata": {},
   "source": [
    "### 以 Column Name 取得元素\n",
    "使用 Column Name 取得該 Column 所有元素值"
   ]
  },
  {
   "cell_type": "code",
   "execution_count": 58,
   "metadata": {},
   "outputs": [
    {
     "name": "stdout",
     "output_type": "stream",
     "text": [
      "使用 Column name 取得元素值 : \n",
      " b['Name'] =  ['Jay' 'James' 'Joe'] \n",
      " b['num1'] =  [1 3 5]\n"
     ]
    }
   ],
   "source": [
    "print('使用 Column name 取得元素值 : \\n',\n",
    "      \"b['Name'] = \", b['Name'], '\\n',\n",
    "      \"b['num1'] = \", b['num1'])"
   ]
  },
  {
   "cell_type": "markdown",
   "metadata": {},
   "source": [
    "### 使用 Row, Column Name，取得單筆資料的欄位值\n"
   ]
  },
  {
   "cell_type": "code",
   "execution_count": 59,
   "metadata": {},
   "outputs": [
    {
     "data": {
      "text/plain": [
       "'No'"
      ]
     },
     "execution_count": 59,
     "metadata": {},
     "output_type": "execute_result"
    }
   ],
   "source": [
    "b[1]['True']"
   ]
  },
  {
   "cell_type": "code",
   "execution_count": 60,
   "metadata": {},
   "outputs": [
    {
     "data": {
      "text/plain": [
       "'Jay'"
      ]
     },
     "execution_count": 60,
     "metadata": {},
     "output_type": "execute_result"
    }
   ],
   "source": [
    "b[0]['Name']"
   ]
  },
  {
   "cell_type": "markdown",
   "metadata": {},
   "source": [
    "### 使用邏輯操作，取得對應的結果"
   ]
  },
  {
   "cell_type": "code",
   "execution_count": 61,
   "metadata": {},
   "outputs": [
    {
     "data": {
      "text/plain": [
       "array([False,  True,  True])"
      ]
     },
     "execution_count": 61,
     "metadata": {},
     "output_type": "execute_result"
    }
   ],
   "source": [
    "b['num2'] >= 3  # 判斷 b 裡面 num2 這個 Column 中，每個 Row 是否 >=3  "
   ]
  },
  {
   "cell_type": "code",
   "execution_count": 62,
   "metadata": {},
   "outputs": [
    {
     "data": {
      "text/plain": [
       "array([('James', 3, 4, 'No'), ('Joe', 5, 6, 'Yes')],\n",
       "      dtype=[('Name', '<U5'), ('num1', '<i4'), ('num2', '<i4'), ('True', '<U3')])"
      ]
     },
     "execution_count": 62,
     "metadata": {},
     "output_type": "execute_result"
    }
   ],
   "source": [
    "b[b['num2'] >=3] #取出條件為 True 的 Row: b['num2']>=3 "
   ]
  },
  {
   "cell_type": "code",
   "execution_count": 63,
   "metadata": {},
   "outputs": [
    {
     "data": {
      "text/plain": [
       "array(['James', 'Joe'], dtype='<U5')"
      ]
     },
     "execution_count": 63,
     "metadata": {},
     "output_type": "execute_result"
    }
   ],
   "source": [
    "b[b['num2'] >=3]['Name'] #從符合條件的 Row 中，取得 Name 這個 Column 的資料 "
   ]
  },
  {
   "cell_type": "markdown",
   "metadata": {},
   "source": [
    "### 建立結構化陣列"
   ]
  },
  {
   "cell_type": "code",
   "execution_count": 64,
   "metadata": {},
   "outputs": [
    {
     "data": {
      "text/plain": [
       "array([('', 0, 0, ''), ('', 0, 0, ''), ('', 0, 0, '')],\n",
       "      dtype=[('Name', '<U5'), ('num1', '<i4'), ('num2', '<i4'), ('True', '<U3')])"
      ]
     },
     "execution_count": 64,
     "metadata": {},
     "output_type": "execute_result"
    }
   ],
   "source": [
    "c = np.zeros(3, dtype=dt) #產生3個元素是0的array #0的Unicode為空，第四個欄位沒資料也為空\n",
    "c"
   ]
  },
  {
   "cell_type": "code",
   "execution_count": 66,
   "metadata": {},
   "outputs": [
    {
     "name": "stdout",
     "output_type": "stream",
     "text": [
      "[('Name', '<U5'), ('num1', '<i4'), ('num2', '<i4'), ('True', '<U3')]\n"
     ]
    }
   ],
   "source": [
    "#印出每個欄位名稱及資料型別\n",
    "print(c.dtype)"
   ]
  },
  {
   "cell_type": "code",
   "execution_count": 67,
   "metadata": {},
   "outputs": [
    {
     "data": {
      "text/plain": [
       "array(['', '', ''], dtype='<U5')"
      ]
     },
     "execution_count": 67,
     "metadata": {},
     "output_type": "execute_result"
    }
   ],
   "source": [
    "c['Name']"
   ]
  },
  {
   "cell_type": "code",
   "execution_count": 68,
   "metadata": {},
   "outputs": [],
   "source": [
    "#建立資料串列\n",
    "name = ['Chloe', 'Cherry', 'Clara']\n",
    "num_1 = [11, 12, 13]\n",
    "num_2 = [14, 15, 16]\n",
    "check = ['Y','Y','N']\n"
   ]
  },
  {
   "cell_type": "code",
   "execution_count": 69,
   "metadata": {},
   "outputs": [],
   "source": [
    "#將建立好的資料串列指定給c個每個Column\n",
    "c['Name'] = name\n",
    "c['num1'] = num_1\n",
    "c['num2'] = num_2\n",
    "c['True'] = check"
   ]
  },
  {
   "cell_type": "code",
   "execution_count": 71,
   "metadata": {},
   "outputs": [
    {
     "name": "stdout",
     "output_type": "stream",
     "text": [
      "[('Chloe', 11, 14, 'Y') ('Cherr', 12, 15, 'Y') ('Clara', 13, 16, 'N')]\n"
     ]
    }
   ],
   "source": [
    "#將 c 的內容印出來\n",
    "print(c)"
   ]
  },
  {
   "cell_type": "markdown",
   "metadata": {},
   "source": [
    "## 3. RecordArray：`numpy.recarray()`\n",
    "\n",
    "- RecordArray 與 Structured Array 非常類似，但是提供更多的屬性可以用來存取結構化陣列。\n",
    "- RecordArray 雖然方便但是在效能上會比原來的陣列差。\n",
    "- Structured Array 是透過索引或是名稱存取元素值，但是 RecordArray 可以使用屬性的方式來取得。"
   ]
  },
  {
   "cell_type": "code",
   "execution_count": 74,
   "metadata": {},
   "outputs": [
    {
     "data": {
      "text/plain": [
       "rec.array([('Chloe', 11, 14, 'Y'), ('Cherr', 12, 15, 'Y'),\n",
       "           ('Clara', 13, 16, 'N')],\n",
       "          dtype=[('Name', '<U5'), ('num1', '<i4'), ('num2', '<i4'), ('True', '<U3')])"
      ]
     },
     "execution_count": 74,
     "metadata": {},
     "output_type": "execute_result"
    }
   ],
   "source": [
    "#用RecordArray來存取結構化陣列\n",
    "c_rec = c.view(np.recarray)\n",
    "c_rec"
   ]
  },
  {
   "cell_type": "markdown",
   "metadata": {},
   "source": [
    "Structured Array 是透過索引或是名稱存取元素值，但是 RecordArray 可以使用屬性的方式來取得。"
   ]
  },
  {
   "cell_type": "code",
   "execution_count": 76,
   "metadata": {},
   "outputs": [
    {
     "data": {
      "text/plain": [
       "array(['Chloe', 'Cherr', 'Clara'], dtype='<U5')"
      ]
     },
     "execution_count": 76,
     "metadata": {},
     "output_type": "execute_result"
    }
   ],
   "source": [
    "#Structured Array 是透過索引或是名稱存取元素值，但是 RecordArray 可以使用屬性的方式來取得。\n",
    "c_rec.Name"
   ]
  }
 ],
 "metadata": {
  "kernelspec": {
   "display_name": "Python 3",
   "language": "python",
   "name": "python3"
  },
  "language_info": {
   "codemirror_mode": {
    "name": "ipython",
    "version": 3
   },
   "file_extension": ".py",
   "mimetype": "text/x-python",
   "name": "python",
   "nbconvert_exporter": "python",
   "pygments_lexer": "ipython3",
   "version": "3.8.5"
  }
 },
 "nbformat": 4,
 "nbformat_minor": 4
}
