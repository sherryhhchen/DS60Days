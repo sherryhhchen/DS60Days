{
 "cells": [
  {
   "cell_type": "markdown",
   "metadata": {
    "id": "oef8c2jr-PZY"
   },
   "source": [
    "# 作業目標\n",
    "\n",
    "計算有缺失值的資料，統計量實作\n",
    "\n",
    "\n",
    "\n",
    "# 作業重點\n",
    "\n",
    "當遇到缺失值有函式可以處理，不須額外寫程式刪除\n",
    "\n",
    "計算統計量時不能出現缺失值"
   ]
  },
  {
   "cell_type": "markdown",
   "metadata": {
    "id": "4YgL8NF4-Ru3"
   },
   "source": [
    "題目:<br>\n",
    "english_score = np.array([55,89,76,65,48,70])<br>\n",
    "math_score = np.array([60,85,60,68,np.nan,60])<br>\n",
    "chinese_score = np.array([65,90,82,72,66,77])<br>\n",
    "\n",
    "上3列共六位同學的英文、數學、國文成績，第一個元素代表第一位同學，舉例第一位同學英文55分、數學60分、國文65分，今天第五位同學因某原因沒來考試，導致數學成績缺值，運用上列數據回答下列問題。<br>\n",
    "\n",
    "1. 請計算各科成績平均、最大值、最小值、標準差，其中數學缺一筆資料可忽略?\n",
    "2. 第五位同學補考數學後成績為55，請計算補考後數學成績平均、最大值、最小值、標準差?\n",
    "3. 用補考後資料找出與國文成績相關係數最高的學科?"
   ]
  },
  {
   "cell_type": "code",
   "execution_count": 1,
   "metadata": {
    "executionInfo": {
     "elapsed": 617,
     "status": "ok",
     "timestamp": 1609854566856,
     "user": {
      "displayName": "献竤黃",
      "photoUrl": "",
      "userId": "07529243043474362942"
     },
     "user_tz": -480
    },
    "id": "QwsKU8qO-RK7"
   },
   "outputs": [],
   "source": [
    "import numpy as np"
   ]
  },
  {
   "cell_type": "code",
   "execution_count": 2,
   "metadata": {
    "executionInfo": {
     "elapsed": 1016,
     "status": "ok",
     "timestamp": 1609854567261,
     "user": {
      "displayName": "献竤黃",
      "photoUrl": "",
      "userId": "07529243043474362942"
     },
     "user_tz": -480
    },
    "id": "B5BqDQAe_czh"
   },
   "outputs": [],
   "source": [
    "english_score = np.array([55,89,76,65,48,70])\n",
    "math_score = np.array([60,85,60,68,np.nan,60])\n",
    "chinese_score = np.array([65,90,82,72,66,77])"
   ]
  },
  {
   "cell_type": "markdown",
   "metadata": {},
   "source": [
    "### 1. 請計算各科成績平均、最大值、最小值、標準差，其中數學缺一筆資料可忽略?"
   ]
  },
  {
   "cell_type": "code",
   "execution_count": 6,
   "metadata": {
    "executionInfo": {
     "elapsed": 1005,
     "status": "ok",
     "timestamp": 1609854567262,
     "user": {
      "displayName": "献竤黃",
      "photoUrl": "",
      "userId": "07529243043474362942"
     },
     "user_tz": -480
    },
    "id": "K3tUA6u9aI3N"
   },
   "outputs": [
    {
     "name": "stdout",
     "output_type": "stream",
     "text": [
      "------英文成績------\n",
      "英文成績平均： 67.16666666666667 \n",
      "英文成績最大值： 89 \n",
      "英文成績最小值： 48 \n",
      "英文成績標準差： 13.433995020924426\n",
      "------數學成績------\n",
      "數學成績平均： 66.6 \n",
      "數學成績最大值： 85.0 \n",
      "數學成績最小值： 60.0 \n",
      "數學成績標準差： 9.707728879609279\n",
      "------國文成績------\n",
      "國文成績平均： 75.33333333333333 \n",
      "國文成績最大值： 90 \n",
      "國文成績最小值： 65 \n",
      "國文成績標準差： 8.825468196582484\n"
     ]
    }
   ],
   "source": [
    "#計算英文成績平均、最大值、最小值、標準差\n",
    "print('------英文成績------')\n",
    "e_avg = np.nanmean(english_score)\n",
    "e_max = np.nanmax(english_score)\n",
    "e_min = np.nanmin(english_score)\n",
    "e_std = np.nanstd(english_score)\n",
    "print('英文成績平均：', e_avg,\n",
    "      '\\n英文成績最大值：', e_max,\n",
    "      '\\n英文成績最小值：', e_min,\n",
    "      '\\n英文成績標準差：', e_std)\n",
    "\n",
    "#計算數學成績平均、最大值、最小值、標準差\n",
    "print('------數學成績------')\n",
    "m_avg = np.nanmean(math_score)\n",
    "m_max = np.nanmax(math_score)\n",
    "m_min = np.nanmin(math_score)\n",
    "m_std = np.nanstd(math_score)\n",
    "print('數學成績平均：', m_avg,\n",
    "      '\\n數學成績最大值：', m_max,\n",
    "      '\\n數學成績最小值：', m_min,\n",
    "      '\\n數學成績標準差：', m_std)\n",
    "\n",
    "#計算國文成績平均、最大值、最小值、標準差\n",
    "print('------國文成績------')\n",
    "c_avg = np.nanmean(chinese_score)\n",
    "c_max = np.nanmax(chinese_score)\n",
    "c_min = np.nanmin(chinese_score)\n",
    "c_std = np.nanstd(chinese_score)\n",
    "print('國文成績平均：', c_avg,\n",
    "      '\\n國文成績最大值：', c_max,\n",
    "      '\\n國文成績最小值：', c_min,\n",
    "      '\\n國文成績標準差：', c_std)"
   ]
  },
  {
   "cell_type": "markdown",
   "metadata": {},
   "source": [
    "### 2. 第五位同學補考數學後成績為55，請計算補考後數學成績平均、最大值、最小值、標準差?\n"
   ]
  },
  {
   "cell_type": "code",
   "execution_count": 7,
   "metadata": {
    "executionInfo": {
     "elapsed": 996,
     "status": "ok",
     "timestamp": 1609854567262,
     "user": {
      "displayName": "献竤黃",
      "photoUrl": "",
      "userId": "07529243043474362942"
     },
     "user_tz": -480
    },
    "id": "mXjDzvSrbLlf"
   },
   "outputs": [
    {
     "name": "stdout",
     "output_type": "stream",
     "text": [
      "數學成績平均： 64.66666666666667 \n",
      "數學成績最大值： 85.0 \n",
      "數學成績最小值： 55.0 \n",
      "數學成績標準差： 9.860132971832694\n"
     ]
    }
   ],
   "source": [
    "import copy\n",
    "math_score_new = copy.deepcopy(math_score)\n",
    "math_score_new[4] = 55\n",
    "math_score_new\n",
    "\n",
    "#計算數學成績平均、最大值、最小值、標準差\n",
    "m1_avg = np.nanmean(math_score_new)\n",
    "m1_max = np.nanmax(math_score_new)\n",
    "m1_min = np.nanmin(math_score_new)\n",
    "m1_std = np.nanstd(math_score_new)\n",
    "print('數學成績平均：', m1_avg,\n",
    "      '\\n數學成績最大值：', m1_max,\n",
    "      '\\n數學成績最小值：', m1_min,\n",
    "      '\\n數學成績標準差：', m1_std)"
   ]
  },
  {
   "cell_type": "markdown",
   "metadata": {},
   "source": [
    "### 3. 用補考後資料找出與國文成績相關係數最高的學科?"
   ]
  },
  {
   "cell_type": "code",
   "execution_count": null,
   "metadata": {
    "executionInfo": {
     "elapsed": 989,
     "status": "ok",
     "timestamp": 1609854567264,
     "user": {
      "displayName": "献竤黃",
      "photoUrl": "",
      "userId": "07529243043474362942"
     },
     "user_tz": -480
    },
    "id": "SaGolKx0cKoU"
   },
   "outputs": [],
   "source": [
    "cor_c_m = np.corrcoef(chinese_score, \n",
    "                     math_score_new)\n",
    "cor_c_e = np.corrcoef(chinese_score,\n",
    "                     english_score)\n",
    "\n",
    "print('國文 vs 數學相關係數：\\n {} \\n\\n 國文 vs 英文相關係數：\\n{}'.format(cor_c_m, cor_c_e))"
   ]
  }
 ],
 "metadata": {
  "colab": {
   "authorship_tag": "ABX9TyPtywwDR7TsGGEOMGYLDT5h",
   "collapsed_sections": [],
   "name": "作業Hong題目.ipynb",
   "provenance": []
  },
  "kernelspec": {
   "display_name": "Python 3",
   "language": "python",
   "name": "python3"
  },
  "language_info": {
   "codemirror_mode": {
    "name": "ipython",
    "version": 3
   },
   "file_extension": ".py",
   "mimetype": "text/x-python",
   "name": "python",
   "nbconvert_exporter": "python",
   "pygments_lexer": "ipython3",
   "version": "3.8.5"
  }
 },
 "nbformat": 4,
 "nbformat_minor": 1
}
