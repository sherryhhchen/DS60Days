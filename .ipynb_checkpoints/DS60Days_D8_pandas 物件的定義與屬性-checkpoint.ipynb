{
 "cells": [
  {
   "cell_type": "markdown",
   "metadata": {},
   "source": [
    "# Pandas 物件的定義與屬性"
   ]
  },
  {
   "cell_type": "markdown",
   "metadata": {},
   "source": [
    "## 函式與函式庫\n",
    "\n",
    "### 函式\n",
    "\n",
    "函式是指將一段程式碼封裝而成的函式，可用於重複呼叫。\n",
    "\n",
    "\n",
    "### 函式庫\n",
    "\n",
    "函式庫是由一堆函式鎖組成的集合，又稱模組、套件、模塊。\n",
    "\n",
    "## Pandas 的重要特性\n",
    "\n",
    "Pandas是一個建構在 Numpy 之上的模組，主要是整合了 Numpy、Scipy 和 Matplotlib 的功能，可以很方便的執行數據處理和分析。\n",
    "\n",
    "Pandas = **pan**el、**da**taframe、**S**eries\n",
    "\n",
    "而 panel、dataframe、series 也是 pandas 的三個資料結構\n",
    "\n",
    "\n",
    "- 提供了快速高效的 DataFrame 結構\n",
    "- 對於資料格式有高度銜接性，包含 csv、excel、SQL等，皆能提供彈性的讀寫工具\n",
    "\n",
    "#### 參考資料\n",
    "https://pandas.pydata.org/"
   ]
  },
  {
   "cell_type": "markdown",
   "metadata": {},
   "source": [
    "## Pandas 套件載入指令\n",
    "### 載入Pandas"
   ]
  },
  {
   "cell_type": "code",
   "execution_count": 1,
   "metadata": {},
   "outputs": [],
   "source": [
    "import pandas as pd"
   ]
  },
  {
   "cell_type": "markdown",
   "metadata": {},
   "source": [
    "### 印出套件的物件"
   ]
  },
  {
   "cell_type": "code",
   "execution_count": 4,
   "metadata": {},
   "outputs": [
    {
     "name": "stdout",
     "output_type": "stream",
     "text": [
      "<module 'pandas' from 'C:\\\\Users\\\\Sherry.HH.Chen\\\\Anaconda3\\\\lib\\\\site-packages\\\\pandas\\\\__init__.py'>\n"
     ]
    }
   ],
   "source": [
    "print(pd)"
   ]
  },
  {
   "cell_type": "markdown",
   "metadata": {},
   "source": [
    "### 查看 pandas 版本"
   ]
  },
  {
   "cell_type": "code",
   "execution_count": 5,
   "metadata": {},
   "outputs": [
    {
     "name": "stdout",
     "output_type": "stream",
     "text": [
      "1.1.3\n"
     ]
    }
   ],
   "source": [
    "print(pd.__version__)"
   ]
  },
  {
   "cell_type": "markdown",
   "metadata": {},
   "source": [
    "## DataFrame and Series\n",
    "\n",
    "### Series\n",
    "Series 是 **一維** 的資料結構，用來一定序列型的資料。\n",
    "\n",
    "Series 可以存放：\n",
    "- 整數\n",
    "- 浮點數\n",
    "- 字串\n",
    "- Python 物件(e.g.字串list、字典 list...)\n",
    "- Numpy 的 ndarray\n",
    "- 純量...等\n",
    "\n",
    "Series 雖然是 **一維** 陣列，但看起來卻像是二維陣列資料，是因為一個是 **索引(index)**，一個是實際的資料。\n",
    "\n",
    "Series 的結構與 Python 的 list 類似，不過程式設計師可以為 Series 的每個元素自行命名索引(index)。\n",
    "\n",
    "#### 產生 Series 物件的指令\n",
    "\n",
    "    pd.Series(data=None, index=None, dtype=None, options...)\n",
    "    \n",
    "\n",
    "### DataFrame\n",
    "DataFrame 是 **二維** 的資料結構，用 **表格** 的形式存放常見的資料內容。\n",
    "\n"
   ]
  },
  {
   "cell_type": "markdown",
   "metadata": {},
   "source": [
    "##  建立Series物件(王者歸來25-1)\n",
    "\n",
    "- 使用串列 list 建立 Series 物件\n",
    "- 使用 Python 字典 dict 建立 Series 物件\n",
    "- 使用 Numpy 的 ndarray 建立 Series 物件\n",
    "- 建立含索引(index)的 Series 物件\n",
    "- 使用純量建立 Series 物件\n",
    "\n"
   ]
  },
  {
   "cell_type": "markdown",
   "metadata": {},
   "source": [
    "### (1) 使用串列 list 建立 Series 物件\n",
    "\n",
    "我們只有建立 s1 的內容，但列印出來時，可以看到左邊欄位有系統自建的索引。\n",
    "pandas 的索引也是從 0 開始計數，有了索引，就可以用索引存取物件內容。"
   ]
  },
  {
   "cell_type": "code",
   "execution_count": 18,
   "metadata": {},
   "outputs": [
    {
     "name": "stdout",
     "output_type": "stream",
     "text": [
      "0    1\n",
      "1    2\n",
      "2    3\n",
      "3    4\n",
      "4    5\n",
      "dtype: int64\n"
     ]
    }
   ],
   "source": [
    "#範例：使用串列 list 建立 Series 物件\n",
    "s1 = pd.Series([1,2,3,4,5])\n",
    "print(s1)"
   ]
  },
  {
   "cell_type": "markdown",
   "metadata": {},
   "source": [
    "#### 使用索引(index)取值"
   ]
  },
  {
   "cell_type": "code",
   "execution_count": 19,
   "metadata": {},
   "outputs": [
    {
     "name": "stdout",
     "output_type": "stream",
     "text": [
      "2\n"
     ]
    }
   ],
   "source": [
    "print(s1[1])"
   ]
  },
  {
   "cell_type": "markdown",
   "metadata": {},
   "source": [
    "#### 使用索引(index)修改值"
   ]
  },
  {
   "cell_type": "code",
   "execution_count": 21,
   "metadata": {},
   "outputs": [
    {
     "name": "stdout",
     "output_type": "stream",
     "text": [
      "0     1\n",
      "1     2\n",
      "2    10\n",
      "3     4\n",
      "4     5\n",
      "dtype: int64\n"
     ]
    }
   ],
   "source": [
    "s1[2] = 10\n",
    "print(s1)"
   ]
  },
  {
   "cell_type": "markdown",
   "metadata": {},
   "source": [
    "### (2) 使用 Python 字典 dict 建立 Series 物件\n",
    "\n",
    "使用 python 字典建立 Series 物件時，字典的 key 就會被視為 Series 物件的索引(index)；字典的值(value)就會被視為 Series 物件的值。\n",
    "```\n",
    "字典的 key   -> Series 的 index\n",
    "字典的 value -> Series 的 value\n",
    "```"
   ]
  },
  {
   "cell_type": "code",
   "execution_count": 22,
   "metadata": {},
   "outputs": [
    {
     "name": "stdout",
     "output_type": "stream",
     "text": [
      "北京    beijing\n",
      "台灣     Taiwan\n",
      "dtype: object\n"
     ]
    }
   ],
   "source": [
    "#建立字典\n",
    "dict = {'北京':'beijing',\n",
    "       '台灣':'Taiwan'}\n",
    "\n",
    "#用字典建立 Series\n",
    "s2 = pd.Series(dict)\n",
    "print(s2)"
   ]
  },
  {
   "cell_type": "markdown",
   "metadata": {},
   "source": [
    "### (3) 使用 Numpy 的 ndarray 建立 Series 物件"
   ]
  },
  {
   "cell_type": "code",
   "execution_count": 25,
   "metadata": {},
   "outputs": [
    {
     "name": "stdout",
     "output_type": "stream",
     "text": [
      "0    0\n",
      "1    2\n",
      "2    4\n",
      "3    6\n",
      "4    8\n",
      "dtype: int32\n"
     ]
    }
   ],
   "source": [
    "import numpy as np\n",
    "s3 = pd.Series(np.arange(0,10,2))\n",
    "print(s3)"
   ]
  },
  {
   "cell_type": "markdown",
   "metadata": {},
   "source": [
    "### (4) 建立含索引(index)的 Series 物件\n",
    "\n",
    "- 預設情況索引是從 0 開始計數，也可以使用 index 參數建立索引\n",
    "- 若是用字典建立，key 就是 index"
   ]
  },
  {
   "cell_type": "code",
   "execution_count": 4,
   "metadata": {},
   "outputs": [
    {
     "name": "stdout",
     "output_type": "stream",
     "text": [
      "2    250\n",
      "4    350\n",
      "6    400\n",
      "dtype: int64\n"
     ]
    }
   ],
   "source": [
    "#範例一：建立不是0開始的索引\n",
    "import pandas as pd\n",
    "index = [2,4,6]\n",
    "price = [250, 350, 400]\n",
    "s4 = pd.Series(price, index = index)\n",
    "print(s4)"
   ]
  },
  {
   "cell_type": "code",
   "execution_count": 5,
   "metadata": {},
   "outputs": [
    {
     "name": "stdout",
     "output_type": "stream",
     "text": [
      "apple         250\n",
      "grapefruit    350\n",
      "guava         400\n",
      "dtype: int64\n"
     ]
    }
   ],
   "source": [
    "#建立含自訂索引的Series物件，同時列出結果\n",
    "#方法一\n",
    "fruits = ['apple', 'grapefruit','guava']\n",
    "price = [250, 350, 400]\n",
    "s5 = pd.Series(price, index = fruits)\n",
    "print(s5)"
   ]
  },
  {
   "cell_type": "code",
   "execution_count": 8,
   "metadata": {},
   "outputs": [
    {
     "name": "stdout",
     "output_type": "stream",
     "text": [
      "a    123\n",
      "b    456\n",
      "c    789\n",
      "dtype: int64\n"
     ]
    }
   ],
   "source": [
    "#建立含自訂索引的Series物件，同時列出結果\n",
    "#方法二\n",
    "s5 = pd.Series([123, 456, 789], index = ['a', 'b', 'c'])\n",
    "print(s5)"
   ]
  },
  {
   "cell_type": "markdown",
   "metadata": {},
   "source": [
    "### (5) 使用純量建立 Series 物件\n",
    "\n",
    "範例：\n",
    "1 個純量，搭配 3 個索引，pandas 會主動將所有索引值用此純量補上"
   ]
  },
  {
   "cell_type": "code",
   "execution_count": 9,
   "metadata": {},
   "outputs": [
    {
     "name": "stdout",
     "output_type": "stream",
     "text": [
      "1    9\n",
      "2    9\n",
      "3    9\n",
      "dtype: int64\n"
     ]
    }
   ],
   "source": [
    "s6 = pd.Series(9, index=[1,2,3])\n",
    "print(s6)"
   ]
  },
  {
   "cell_type": "markdown",
   "metadata": {},
   "source": [
    "### (6) 列出 Series 物件的索引與值\n",
    "\n",
    "假設物件名稱是 obj，Series 物件值\n",
    "\n",
    "```obj.values```\n",
    "\n",
    "\n",
    "假設物件名稱是 obj，Series 物件索引\n",
    "\n",
    "```obj.index```"
   ]
  },
  {
   "cell_type": "code",
   "execution_count": 12,
   "metadata": {},
   "outputs": [
    {
     "name": "stdout",
     "output_type": "stream",
     "text": [
      "Index(['Orange', 'Apple', 'Grape'], dtype='object')\n",
      "[30 40 50]\n"
     ]
    }
   ],
   "source": [
    "s5 = pd.Series([30,40,50], index=['Orange','Apple','Grape'])\n",
    "\n",
    "#列印物件索引(index)\n",
    "print(s5.index)\n",
    "\n",
    "#列印物件值(value)\n",
    "print(s5.values) "
   ]
  },
  {
   "cell_type": "markdown",
   "metadata": {},
   "source": [
    "### (7) Series 的運算\n",
    " \n",
    "Series 運算方法大多與 Numpy 的 ndarray 或是 Python 的串列相同，但是有一些擴充更好用的功能。\n",
    "\n",
    "可應用在 Series 的觀念\n",
    "- 切片\n",
    "- 四則運算\n",
    "- 相同索引的物件相加：索引相同可直接相加\n",
    "- 不同索引的物件相加：索引相同的會相加，不同的會顯示 NaN\n",
    "- 求餘數\n",
    "- 邏輯運算：x>y、x==y、x<=y\n"
   ]
  },
  {
   "cell_type": "markdown",
   "metadata": {},
   "source": [
    "#### 將切片觀念應用在 Series 物件"
   ]
  },
  {
   "cell_type": "code",
   "execution_count": 13,
   "metadata": {},
   "outputs": [
    {
     "name": "stdout",
     "output_type": "stream",
     "text": [
      "2    2\n",
      "3    3\n",
      "dtype: int64\n"
     ]
    }
   ],
   "source": [
    "#將切片觀念應用在 Series 物件\n",
    "s = pd.Series([0,1,2,3,4,5])\n",
    "print(s[2:4])"
   ]
  },
  {
   "cell_type": "code",
   "execution_count": 14,
   "metadata": {},
   "outputs": [
    {
     "name": "stdout",
     "output_type": "stream",
     "text": [
      "0    0\n",
      "1    1\n",
      "2    2\n",
      "dtype: int64\n"
     ]
    }
   ],
   "source": [
    "print(s[:3])"
   ]
  },
  {
   "cell_type": "code",
   "execution_count": 15,
   "metadata": {},
   "outputs": [
    {
     "name": "stdout",
     "output_type": "stream",
     "text": [
      "2    2\n",
      "3    3\n",
      "4    4\n",
      "5    5\n",
      "dtype: int64\n"
     ]
    }
   ],
   "source": [
    "print(s[2:])"
   ]
  },
  {
   "cell_type": "code",
   "execution_count": 16,
   "metadata": {},
   "outputs": [
    {
     "name": "stdout",
     "output_type": "stream",
     "text": [
      "5    5\n",
      "dtype: int64\n"
     ]
    }
   ],
   "source": [
    "print(s[-1:])"
   ]
  },
  {
   "cell_type": "markdown",
   "metadata": {},
   "source": [
    "#### 將四則運算觀念應用在 Series 物件"
   ]
  },
  {
   "cell_type": "code",
   "execution_count": 18,
   "metadata": {},
   "outputs": [
    {
     "name": "stdout",
     "output_type": "stream",
     "text": [
      "0    3\n",
      "1    4\n",
      "2    5\n",
      "dtype: int64\n"
     ]
    }
   ],
   "source": [
    "#Series物件相加\n",
    "x = pd.Series([1, 2, 3])\n",
    "y = pd.Series([2, 2, 2])\n",
    "print( x+y )"
   ]
  },
  {
   "cell_type": "code",
   "execution_count": 21,
   "metadata": {},
   "outputs": [
    {
     "name": "stdout",
     "output_type": "stream",
     "text": [
      "0    15\n",
      "1    25\n",
      "dtype: int64\n"
     ]
    }
   ],
   "source": [
    "#Series物件相減\n",
    "x = pd.Series([20, 30])\n",
    "y = pd.Series([5, 5])\n",
    "print(x-y)"
   ]
  },
  {
   "cell_type": "code",
   "execution_count": 20,
   "metadata": {},
   "outputs": [
    {
     "name": "stdout",
     "output_type": "stream",
     "text": [
      "0    10\n",
      "1    15\n",
      "dtype: int64\n"
     ]
    }
   ],
   "source": [
    "#Series物件相乘\n",
    "x = pd.Series([2, 3])\n",
    "y = pd.Series([5, 5])\n",
    "print(x*y)"
   ]
  },
  {
   "cell_type": "code",
   "execution_count": 22,
   "metadata": {},
   "outputs": [
    {
     "name": "stdout",
     "output_type": "stream",
     "text": [
      "0    4.0\n",
      "1    6.0\n",
      "dtype: float64\n"
     ]
    }
   ],
   "source": [
    "#Series物件相除\n",
    "x = pd.Series([20, 30])\n",
    "y = pd.Series([5, 5])\n",
    "print(x/y)"
   ]
  },
  {
   "cell_type": "markdown",
   "metadata": {},
   "source": [
    "#### 將求餘數觀念應用在 Series 物件"
   ]
  },
  {
   "cell_type": "code",
   "execution_count": 31,
   "metadata": {},
   "outputs": [
    {
     "name": "stdout",
     "output_type": "stream",
     "text": [
      "0    0.0\n",
      "1    4.0\n",
      "2    1.0\n",
      "3    NaN\n",
      "dtype: float64\n"
     ]
    }
   ],
   "source": [
    "#求餘數\n",
    "x = pd.Series([2, 4, 5, 0])\n",
    "y = pd.Series([1, 5, 2, 0])\n",
    "print(x % y)"
   ]
  },
  {
   "cell_type": "markdown",
   "metadata": {},
   "source": [
    "#### 將邏輯運算觀念應用在 Series 物件"
   ]
  },
  {
   "cell_type": "code",
   "execution_count": 24,
   "metadata": {},
   "outputs": [
    {
     "data": {
      "text/plain": [
       "0     True\n",
       "1    False\n",
       "2    False\n",
       "dtype: bool"
      ]
     },
     "execution_count": 24,
     "metadata": {},
     "output_type": "execute_result"
    }
   ],
   "source": [
    "x = pd.Series([2, 4, 0])\n",
    "y = pd.Series([1, 5, 0])\n",
    "x>y"
   ]
  },
  {
   "cell_type": "code",
   "execution_count": 25,
   "metadata": {},
   "outputs": [
    {
     "data": {
      "text/plain": [
       "0    False\n",
       "1    False\n",
       "2     True\n",
       "dtype: bool"
      ]
     },
     "execution_count": 25,
     "metadata": {},
     "output_type": "execute_result"
    }
   ],
   "source": [
    "x = pd.Series([2, 4, 0])\n",
    "y = pd.Series([1, 5, 0])\n",
    "x==y"
   ]
  },
  {
   "cell_type": "code",
   "execution_count": 26,
   "metadata": {},
   "outputs": [
    {
     "data": {
      "text/plain": [
       "0     True\n",
       "1    False\n",
       "2     True\n",
       "dtype: bool"
      ]
     },
     "execution_count": 26,
     "metadata": {},
     "output_type": "execute_result"
    }
   ],
   "source": [
    "x = pd.Series([2, 4, 0])\n",
    "y = pd.Series([1, 5, 0])\n",
    "x>=y"
   ]
  },
  {
   "cell_type": "code",
   "execution_count": 27,
   "metadata": {},
   "outputs": [
    {
     "data": {
      "text/plain": [
       "0     True\n",
       "1     True\n",
       "2    False\n",
       "dtype: bool"
      ]
     },
     "execution_count": 27,
     "metadata": {},
     "output_type": "execute_result"
    }
   ],
   "source": [
    "x = pd.Series([2, 4, 0])\n",
    "y = pd.Series([1, 5, 0])\n",
    "x!=y"
   ]
  },
  {
   "cell_type": "markdown",
   "metadata": {},
   "source": [
    "#### 物件擁有相同索引，進行相加"
   ]
  },
  {
   "cell_type": "code",
   "execution_count": 32,
   "metadata": {},
   "outputs": [
    {
     "name": "stdout",
     "output_type": "stream",
     "text": [
      "apple     45\n",
      "grapes    65\n",
      "guava     95\n",
      "dtype: int64\n"
     ]
    }
   ],
   "source": [
    "fruits = ['apple', 'grapes', 'guava']\n",
    "x1 = pd.Series([20, 30, 40], index = fruits)\n",
    "x2 = pd.Series([25, 35, 55], index = fruits)\n",
    "y = x1 + x2\n",
    "print(y)"
   ]
  },
  {
   "cell_type": "markdown",
   "metadata": {},
   "source": [
    "#### 物件擁有不同索引，進行相加\n",
    "索引相同的會相加，不同的會顯示 NaN"
   ]
  },
  {
   "cell_type": "code",
   "execution_count": 34,
   "metadata": {},
   "outputs": [
    {
     "name": "stdout",
     "output_type": "stream",
     "text": [
      "Apple     25.0\n",
      "Grape     35.0\n",
      "Guava      NaN\n",
      "Orange     NaN\n",
      "dtype: float64\n"
     ]
    }
   ],
   "source": [
    "fruits1 = ['Orange', 'Apple', 'Grape']\n",
    "fruits2 = ['Apple', 'Guava','Grape']\n",
    "x1 = pd.Series([10, 20, 30], index = fruits1)\n",
    "x2 = pd.Series([5, 5, 5], index = fruits2)\n",
    "print(x1 + x2)"
   ]
  },
  {
   "cell_type": "markdown",
   "metadata": {},
   "source": []
  },
  {
   "cell_type": "code",
   "execution_count": null,
   "metadata": {},
   "outputs": [],
   "source": []
  },
  {
   "cell_type": "markdown",
   "metadata": {},
   "source": []
  },
  {
   "cell_type": "code",
   "execution_count": null,
   "metadata": {},
   "outputs": [],
   "source": []
  },
  {
   "cell_type": "markdown",
   "metadata": {},
   "source": []
  },
  {
   "cell_type": "code",
   "execution_count": null,
   "metadata": {},
   "outputs": [],
   "source": []
  },
  {
   "cell_type": "code",
   "execution_count": null,
   "metadata": {},
   "outputs": [],
   "source": []
  },
  {
   "cell_type": "code",
   "execution_count": null,
   "metadata": {},
   "outputs": [],
   "source": []
  },
  {
   "cell_type": "code",
   "execution_count": null,
   "metadata": {},
   "outputs": [],
   "source": [
    "-----分隔線------"
   ]
  },
  {
   "cell_type": "code",
   "execution_count": 6,
   "metadata": {},
   "outputs": [
    {
     "name": "stdout",
     "output_type": "stream",
     "text": [
      "0    1\n",
      "1    2\n",
      "2    3\n",
      "dtype: int64\n"
     ]
    }
   ],
   "source": [
    "# 產生 Series 變數\n",
    "s = pd.Series([1,2,3])\n",
    "print(s)"
   ]
  },
  {
   "cell_type": "code",
   "execution_count": 7,
   "metadata": {},
   "outputs": [
    {
     "data": {
      "text/plain": [
       "pandas.core.series.Series"
      ]
     },
     "execution_count": 7,
     "metadata": {},
     "output_type": "execute_result"
    }
   ],
   "source": [
    "#查看物件屬性(type)\n",
    "type(s)"
   ]
  },
  {
   "cell_type": "markdown",
   "metadata": {},
   "source": [
    "#### 產生 DataFrame 變數"
   ]
  },
  {
   "cell_type": "code",
   "execution_count": 9,
   "metadata": {},
   "outputs": [
    {
     "name": "stdout",
     "output_type": "stream",
     "text": [
      "   0\n",
      "0  1\n",
      "1  2\n",
      "2  3\n"
     ]
    }
   ],
   "source": [
    "df = pd.DataFrame([1,2,3])\n",
    "print(df)"
   ]
  },
  {
   "cell_type": "code",
   "execution_count": 10,
   "metadata": {},
   "outputs": [
    {
     "data": {
      "text/plain": [
       "pandas.core.frame.DataFrame"
      ]
     },
     "execution_count": 10,
     "metadata": {},
     "output_type": "execute_result"
    }
   ],
   "source": [
    "#查看物件屬性(type)\n",
    "type(df)"
   ]
  },
  {
   "cell_type": "markdown",
   "metadata": {},
   "source": [
    "## Series 的常用屬性\n",
    "\n",
    "Series 和 Numpy 的 array 很類似，所以 array 有的屬性，Series 絕大部分都可以沿用。\n",
    "\n",
    "### 完整的 Series 屬性\n",
    "https://pandas.pydata.org/pandas-docs/stable/reference/api/pandas.Series.html"
   ]
  },
  {
   "cell_type": "code",
   "execution_count": 15,
   "metadata": {},
   "outputs": [
    {
     "name": "stdout",
     "output_type": "stream",
     "text": [
      "2    1\n",
      "2    2\n",
      "2    3\n",
      "dtype: int64\n"
     ]
    }
   ],
   "source": [
    "s = pd.Series([1,2,3])\n",
    "print(s)"
   ]
  },
  {
   "cell_type": "code",
   "execution_count": 16,
   "metadata": {},
   "outputs": [
    {
     "name": "stdout",
     "output_type": "stream",
     "text": [
      "2    1\n",
      "2    2\n",
      "2    3\n",
      "dtype: int64\n"
     ]
    }
   ],
   "source": [
    "print(s.T)"
   ]
  },
  {
   "cell_type": "code",
   "execution_count": null,
   "metadata": {},
   "outputs": [],
   "source": []
  },
  {
   "cell_type": "code",
   "execution_count": null,
   "metadata": {},
   "outputs": [],
   "source": []
  },
  {
   "cell_type": "code",
   "execution_count": null,
   "metadata": {},
   "outputs": [],
   "source": []
  },
  {
   "cell_type": "code",
   "execution_count": null,
   "metadata": {},
   "outputs": [],
   "source": []
  },
  {
   "cell_type": "code",
   "execution_count": null,
   "metadata": {},
   "outputs": [],
   "source": []
  },
  {
   "cell_type": "code",
   "execution_count": null,
   "metadata": {},
   "outputs": [],
   "source": []
  },
  {
   "cell_type": "code",
   "execution_count": null,
   "metadata": {},
   "outputs": [],
   "source": []
  },
  {
   "cell_type": "code",
   "execution_count": null,
   "metadata": {},
   "outputs": [],
   "source": []
  }
 ],
 "metadata": {
  "kernelspec": {
   "display_name": "Python 3",
   "language": "python",
   "name": "python3"
  },
  "language_info": {
   "codemirror_mode": {
    "name": "ipython",
    "version": 3
   },
   "file_extension": ".py",
   "mimetype": "text/x-python",
   "name": "python",
   "nbconvert_exporter": "python",
   "pygments_lexer": "ipython3",
   "version": "3.8.5"
  }
 },
 "nbformat": 4,
 "nbformat_minor": 4
}
