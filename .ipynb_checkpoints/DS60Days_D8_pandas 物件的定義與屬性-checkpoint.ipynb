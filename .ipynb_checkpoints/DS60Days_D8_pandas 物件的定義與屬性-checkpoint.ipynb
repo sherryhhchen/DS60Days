{
 "cells": [
  {
   "cell_type": "markdown",
   "metadata": {},
   "source": [
    "# Pandas 物件的定義與屬性"
   ]
  },
  {
   "cell_type": "markdown",
   "metadata": {},
   "source": [
    "## 函式與函式庫\n",
    "\n",
    "### 函式\n",
    "\n",
    "函式是指將一段程式碼封裝而成的函式，可用於重複呼叫。\n",
    "\n",
    "\n",
    "### 函式庫\n",
    "\n",
    "函式庫是由一堆函式鎖組成的集合，又稱模組、套件、模塊。\n",
    "\n",
    "## Pandas 的重要特性\n",
    "\n",
    "Pandas是一個建構在 Numpy 之上的模組，主要是整合了 Numpy、Scipy 和 Matplotlib 的功能，可以很方便的執行數據處理和分析。\n",
    "\n",
    "Pandas = **pan**el、**da**taframe、**S**eries\n",
    "\n",
    "而 panel、dataframe、series 也是 pandas 的三個資料結構\n",
    "\n",
    "\n",
    "- 提供了快速高效的 DataFrame 結構\n",
    "- 對於資料格式有高度銜接性，包含 csv、excel、SQL等，皆能提供彈性的讀寫工具\n",
    "\n",
    "#### 參考資料\n",
    "https://pandas.pydata.org/"
   ]
  },
  {
   "cell_type": "markdown",
   "metadata": {},
   "source": [
    "## Pandas 套件載入指令\n",
    "### 載入Pandas"
   ]
  },
  {
   "cell_type": "code",
   "execution_count": 1,
   "metadata": {},
   "outputs": [],
   "source": [
    "import pandas as pd"
   ]
  },
  {
   "cell_type": "markdown",
   "metadata": {},
   "source": [
    "### 印出套件的物件"
   ]
  },
  {
   "cell_type": "code",
   "execution_count": 4,
   "metadata": {},
   "outputs": [
    {
     "name": "stdout",
     "output_type": "stream",
     "text": [
      "<module 'pandas' from 'C:\\\\Users\\\\Sherry.HH.Chen\\\\Anaconda3\\\\lib\\\\site-packages\\\\pandas\\\\__init__.py'>\n"
     ]
    }
   ],
   "source": [
    "print(pd)"
   ]
  },
  {
   "cell_type": "markdown",
   "metadata": {},
   "source": [
    "### 查看 pandas 版本"
   ]
  },
  {
   "cell_type": "code",
   "execution_count": 5,
   "metadata": {},
   "outputs": [
    {
     "name": "stdout",
     "output_type": "stream",
     "text": [
      "1.1.3\n"
     ]
    }
   ],
   "source": [
    "print(pd.__version__)"
   ]
  },
  {
   "cell_type": "markdown",
   "metadata": {},
   "source": [
    "## DataFrame and Series\n",
    "\n",
    "### Series\n",
    "Series 是 **一維** 的資料結構，用來一定序列型的資料。\n",
    "\n",
    "Series 可以存放：\n",
    "- 整數\n",
    "- 浮點數\n",
    "- 字串\n",
    "- Python 物件(e.g.字串list、字典 list...)\n",
    "- Numpy 的 ndarray\n",
    "- 純量...等\n",
    "\n",
    "Series 雖然是 **一維** 陣列，但看起來卻像是二維陣列資料，是因為一個是 **索引(index)**，一個是實際的資料。\n",
    "\n",
    "Series 的結構與 Python 的 list 類似，不過程式設計師可以為 Series 的每個元素自行命名索引(index)。\n",
    "\n",
    "#### 產生 Series 物件的指令\n",
    "\n",
    "    pd.Series(data=None, index=None, dtype=None, options...)\n",
    "    \n",
    "\n",
    "### DataFrame\n",
    "DataFrame 是 **二維** 的資料結構，用 **表格** 的形式存放常見的資料內容。\n",
    "\n"
   ]
  },
  {
   "cell_type": "markdown",
   "metadata": {},
   "source": [
    "## 建立Series物件\n",
    "\n",
    "- 使用串列 list 建立 Series 物件\n",
    "- 使用 Python 字典 dict 建立 Series 物件\n",
    "- 使用 Numpy 的 ndarray 建立 Series 物件\n",
    "- 建立含索引(index)的 Series 物件\n",
    "- 使用純量建立 Series 物件\n",
    "\n"
   ]
  },
  {
   "cell_type": "code",
   "execution_count": 6,
   "metadata": {},
   "outputs": [
    {
     "name": "stdout",
     "output_type": "stream",
     "text": [
      "0    1\n",
      "1    2\n",
      "2    3\n",
      "dtype: int64\n"
     ]
    }
   ],
   "source": [
    "# 產生 Series 變數\n",
    "s = pd.Series([1,2,3])\n",
    "print(s)"
   ]
  },
  {
   "cell_type": "code",
   "execution_count": 7,
   "metadata": {},
   "outputs": [
    {
     "data": {
      "text/plain": [
       "pandas.core.series.Series"
      ]
     },
     "execution_count": 7,
     "metadata": {},
     "output_type": "execute_result"
    }
   ],
   "source": [
    "#查看物件屬性(type)\n",
    "type(s)"
   ]
  },
  {
   "cell_type": "markdown",
   "metadata": {},
   "source": [
    "#### 產生 DataFrame 變數"
   ]
  },
  {
   "cell_type": "code",
   "execution_count": 9,
   "metadata": {},
   "outputs": [
    {
     "name": "stdout",
     "output_type": "stream",
     "text": [
      "   0\n",
      "0  1\n",
      "1  2\n",
      "2  3\n"
     ]
    }
   ],
   "source": [
    "df = pd.DataFrame([1,2,3])\n",
    "print(df)"
   ]
  },
  {
   "cell_type": "code",
   "execution_count": 10,
   "metadata": {},
   "outputs": [
    {
     "data": {
      "text/plain": [
       "pandas.core.frame.DataFrame"
      ]
     },
     "execution_count": 10,
     "metadata": {},
     "output_type": "execute_result"
    }
   ],
   "source": [
    "#查看物件屬性(type)\n",
    "type(df)"
   ]
  },
  {
   "cell_type": "markdown",
   "metadata": {},
   "source": [
    "## Series 的常用屬性\n",
    "\n",
    "Series 和 Numpy 的 array 很類似，所以 array 有的屬性，Series 絕大部分都可以沿用。\n",
    "\n",
    "### 完整的 Series 屬性\n",
    "https://pandas.pydata.org/pandas-docs/stable/reference/api/pandas.Series.html"
   ]
  },
  {
   "cell_type": "code",
   "execution_count": 15,
   "metadata": {},
   "outputs": [
    {
     "name": "stdout",
     "output_type": "stream",
     "text": [
      "2    1\n",
      "2    2\n",
      "2    3\n",
      "dtype: int64\n"
     ]
    }
   ],
   "source": [
    "s = pd.Series([1,2,3])\n",
    "print(s)"
   ]
  },
  {
   "cell_type": "code",
   "execution_count": 16,
   "metadata": {},
   "outputs": [
    {
     "name": "stdout",
     "output_type": "stream",
     "text": [
      "2    1\n",
      "2    2\n",
      "2    3\n",
      "dtype: int64\n"
     ]
    }
   ],
   "source": [
    "print(s.T)"
   ]
  },
  {
   "cell_type": "code",
   "execution_count": null,
   "metadata": {},
   "outputs": [],
   "source": []
  },
  {
   "cell_type": "code",
   "execution_count": null,
   "metadata": {},
   "outputs": [],
   "source": []
  },
  {
   "cell_type": "code",
   "execution_count": null,
   "metadata": {},
   "outputs": [],
   "source": []
  },
  {
   "cell_type": "code",
   "execution_count": null,
   "metadata": {},
   "outputs": [],
   "source": []
  },
  {
   "cell_type": "code",
   "execution_count": null,
   "metadata": {},
   "outputs": [],
   "source": []
  },
  {
   "cell_type": "code",
   "execution_count": null,
   "metadata": {},
   "outputs": [],
   "source": []
  },
  {
   "cell_type": "code",
   "execution_count": null,
   "metadata": {},
   "outputs": [],
   "source": []
  },
  {
   "cell_type": "code",
   "execution_count": null,
   "metadata": {},
   "outputs": [],
   "source": []
  }
 ],
 "metadata": {
  "kernelspec": {
   "display_name": "Python 3",
   "language": "python",
   "name": "python3"
  },
  "language_info": {
   "codemirror_mode": {
    "name": "ipython",
    "version": 3
   },
   "file_extension": ".py",
   "mimetype": "text/x-python",
   "name": "python",
   "nbconvert_exporter": "python",
   "pygments_lexer": "ipython3",
   "version": "3.8.5"
  }
 },
 "nbformat": 4,
 "nbformat_minor": 4
}
