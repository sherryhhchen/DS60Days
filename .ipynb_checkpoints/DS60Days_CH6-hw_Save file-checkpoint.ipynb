{
 "cells": [
  {
   "cell_type": "markdown",
   "metadata": {
    "id": "jbkK8wprdbdY"
   },
   "source": [
    "# D06 使用 NumPy 存取各種檔案內容 - 作業"
   ]
  },
  {
   "cell_type": "markdown",
   "metadata": {
    "id": "YWb4mnd4fqAG"
   },
   "source": [
    "# 作業目標 \n",
    "\n",
    "讀取存取陣列資料 \n",
    "\n",
    "\n",
    "# 作業重點 \n",
    "\n",
    "多陣列存一起需要存成npz，讀取須注意npz中有多個陣列"
   ]
  },
  {
   "cell_type": "markdown",
   "metadata": {
    "id": "UXV4vW6IfsW6"
   },
   "source": [
    "## 題目: \n",
    "\n",
    "### 1. 將下兩列array存成npz檔 \n",
    "\n",
    "array1 = np.array(range(30)) \n",
    "\n",
    "array2 = np.array([2,3,5]) \n",
    "\n",
    "\n",
    "### 2. 讀取剛剛的npz檔，加入下列array一起存成新的npz檔\n",
    "\n",
    "array3 = np.array([[4,5,6], [1,2,3]])\n"
   ]
  },
  {
   "cell_type": "markdown",
   "metadata": {},
   "source": [
    "## 答案:\n",
    "### 1. 將下兩列array存成npz檔\n",
    "array1 = np.array(range(30))\n",
    "\n",
    "array2 = np.array([2,3,5])"
   ]
  },
  {
   "cell_type": "code",
   "execution_count": 1,
   "metadata": {
    "id": "1mZQSUx_fry7"
   },
   "outputs": [],
   "source": [
    "import numpy as np\n",
    "\n",
    "#. 將下兩列array存成npz檔\n",
    "a1 = np.array(range(30))\n",
    "a2 = np.array([2,3,5])   \n",
    "                  \n",
    "with open('npzfile.npz', 'wb') as f:\n",
    "    np.savez(f, array1=a1, array2=a2)\n"
   ]
  },
  {
   "cell_type": "markdown",
   "metadata": {},
   "source": [
    "### 2. 讀取剛剛的npz檔，加入下列 array 一起存成新的npz檔"
   ]
  },
  {
   "cell_type": "code",
   "execution_count": 2,
   "metadata": {
    "id": "Ie1TGcssiIDN"
   },
   "outputs": [
    {
     "name": "stdout",
     "output_type": "stream",
     "text": [
      "['array1', 'array2']\n"
     ]
    },
    {
     "data": {
      "text/plain": [
       "['array1', 'array2']"
      ]
     },
     "execution_count": 2,
     "metadata": {},
     "output_type": "execute_result"
    }
   ],
   "source": [
    "#讀取剛剛的npz檔\n",
    "a1a2 = np.load('npzfile.npz')\n",
    "print(a1a2.files)\n",
    "\n",
    "#透過 file 屬性回傳list\n",
    "a1a2.files    "
   ]
  },
  {
   "cell_type": "code",
   "execution_count": 16,
   "metadata": {},
   "outputs": [
    {
     "data": {
      "text/plain": [
       "array([[4, 5, 6],\n",
       "       [1, 2, 3]])"
      ]
     },
     "execution_count": 16,
     "metadata": {},
     "output_type": "execute_result"
    }
   ],
   "source": [
    "#加入下列 array 一起存成新的npz檔\n",
    "array3 = np.array([[4,5,6], [1,2,3]])\n",
    "\n",
    "#將剛剛的檔案轉成字典\n",
    "a1a2_dic = dict(a1a2)\n",
    "#插入新增 array3\n",
    "a1a2_dic[\"array3\"] = np.array([[4,5,6], [1,2,3]])\n",
    "a1a2_dic\n",
    "\n",
    "#儲存為新的npz檔\n",
    "np.savez('new.npz',**a1a2_dic)\n"
   ]
  },
  {
   "cell_type": "code",
   "execution_count": 6,
   "metadata": {},
   "outputs": [
    {
     "data": {
      "text/plain": [
       "['array1', 'array2', 'array3']"
      ]
     },
     "execution_count": 6,
     "metadata": {},
     "output_type": "execute_result"
    }
   ],
   "source": [
    "#讀取新的 npz檔\n",
    "new = np.load('new.npz')\n",
    "new.files"
   ]
  },
  {
   "cell_type": "markdown",
   "metadata": {},
   "source": [
    "### 方法二"
   ]
  },
  {
   "cell_type": "markdown",
   "metadata": {},
   "source": [
    "#### 1. 將下兩列array存成npz檔"
   ]
  },
  {
   "cell_type": "code",
   "execution_count": 7,
   "metadata": {},
   "outputs": [],
   "source": [
    "#將下兩列array存成npz檔\n",
    "array1 = np.array(range(30))\n",
    "array2 = np.array([2,3,5])\n",
    "np.savez('array.npz', array1, array2)"
   ]
  },
  {
   "cell_type": "markdown",
   "metadata": {},
   "source": [
    "#### 2. 讀取剛剛的npz檔，加入下列array一起存成新的npz檔"
   ]
  },
  {
   "cell_type": "code",
   "execution_count": 25,
   "metadata": {},
   "outputs": [
    {
     "name": "stdout",
     "output_type": "stream",
     "text": [
      "['arr_0', 'arr_1', 'arr_2']\n",
      "\n",
      "第一個array的內容：\n",
      " [ 0  1  2  3  4  5  6  7  8  9 10 11 12 13 14 15 16 17 18 19 20 21 22 23\n",
      " 24 25 26 27 28 29] \n",
      "第二個array的內容：\n",
      " [2 3 5] \n",
      "第三個array的內容：\n",
      " [[4 5 6]\n",
      " [1 2 3]]\n"
     ]
    }
   ],
   "source": [
    "#讀取剛剛的npz檔\n",
    "load_array = np.load('array.npz')\n",
    "\n",
    "#加入下列array一起存成新的npz檔\n",
    "array3 = np.array([[4,5,6],[1,2,3]])\n",
    "np.savez('new_array.npz', load_array['arr_0'], load_array['arr_1'], array3)\n",
    "ans = np.load('new_array.npz')\n",
    "\n",
    "print(ans.files)\n",
    "print('\\n第一個array的內容：\\n', ans['arr_0'], \n",
    "      '\\n第二個array的內容：\\n', ans['arr_1'],\n",
    "      '\\n第三個array的內容：\\n', ans['arr_2'])"
   ]
  }
 ],
 "metadata": {
  "colab": {
   "collapsed_sections": [],
   "name": "作業Hong題目.ipynb",
   "provenance": []
  },
  "kernelspec": {
   "display_name": "Python 3",
   "language": "python",
   "name": "python3"
  },
  "language_info": {
   "codemirror_mode": {
    "name": "ipython",
    "version": 3
   },
   "file_extension": ".py",
   "mimetype": "text/x-python",
   "name": "python",
   "nbconvert_exporter": "python",
   "pygments_lexer": "ipython3",
   "version": "3.8.5"
  }
 },
 "nbformat": 4,
 "nbformat_minor": 1
}
